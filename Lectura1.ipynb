{
  "nbformat": 4,
  "nbformat_minor": 0,
  "metadata": {
    "colab": {
      "provenance": [],
      "authorship_tag": "ABX9TyNPZkvS0K4u8g8I1AAVMv3C",
      "include_colab_link": true
    },
    "kernelspec": {
      "name": "python3",
      "display_name": "Python 3"
    },
    "language_info": {
      "name": "python"
    }
  },
  "cells": [
    {
      "cell_type": "markdown",
      "metadata": {
        "id": "view-in-github",
        "colab_type": "text"
      },
      "source": [
        "<a href=\"https://colab.research.google.com/github/afalco/2D_Vortex_Methods/blob/master/Lectura1.ipynb\" target=\"_parent\"><img src=\"https://colab.research.google.com/assets/colab-badge.svg\" alt=\"Open In Colab\"/></a>"
      ]
    },
    {
      "cell_type": "code",
      "execution_count": 5,
      "metadata": {
        "id": "3dozLFOhUxXq"
      },
      "outputs": [],
      "source": [
        "import numpy as np\n",
        "import numpy as np\n",
        "from matplotlib import rcParams\n",
        "import matplotlib.image as mpimg\n",
        "rcParams ['figure.dpi'] = 120\n",
        "import matplotlib . pyplot as plt\n",
        "from scipy import fftpack\n",
        "img_color = plt . imread ('imagen.jpg')"
      ]
    }
  ]
}